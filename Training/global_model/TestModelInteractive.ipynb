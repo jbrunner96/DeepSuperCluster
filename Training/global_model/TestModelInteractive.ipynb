{
 "cells": [
  {
   "cell_type": "code",
   "execution_count": 1,
   "id": "09f1d51f-fc7d-402b-b269-395031e93086",
   "metadata": {},
   "outputs": [
    {
     "name": "stderr",
     "output_type": "stream",
     "text": [
      "2024-04-18 13:32:18.687781: I tensorflow/core/util/port.cc:110] oneDNN custom operations are on. You may see slightly different numerical results due to floating-point round-off errors from different computation orders. To turn them off, set the environment variable `TF_ENABLE_ONEDNN_OPTS=0`.\n",
      "2024-04-18 13:32:18.942646: I tensorflow/core/platform/cpu_feature_guard.cc:182] This TensorFlow binary is optimized to use available CPU instructions in performance-critical operations.\n",
      "To enable the following instructions: AVX2 AVX512F AVX512_VNNI FMA, in other operations, rebuild TensorFlow with the appropriate compiler flags.\n"
     ]
    }
   ],
   "source": [
    "import awk_data\n",
    "import awkward as ak\n",
    "import tensorflow as tf\n",
    "import loader\n",
    "import argparse \n",
    "from collections import defaultdict\n",
    "import os, json\n",
    "import importlib.util\n",
    "from time import time\n",
    "import numpy as np\n",
    "from plotting import * \n",
    "import plot_loss\n",
    "\n",
    "\n",
    "model_file = \"models_archive/model_onlytransformer.py\"\n",
    "config_json = \"training_config/training_run3_transformer/training_run3_transformer_v1.json\" "
   ]
  },
  {
   "cell_type": "markdown",
   "id": "8b4e2a2f-79d5-4bf6-88d3-8b249a16334e",
   "metadata": {},
   "source": [
    "# Load the model and dataset"
   ]
  },
  {
   "cell_type": "code",
   "execution_count": 2,
   "id": "2ae9930f-053f-4534-875a-2b5e31701cf4",
   "metadata": {},
   "outputs": [
    {
     "name": "stderr",
     "output_type": "stream",
     "text": [
      "2024-04-18 13:32:28.595794: I tensorflow/compiler/xla/stream_executor/cuda/cuda_gpu_executor.cc:995] successful NUMA node read from SysFS had negative value (-1), but there must be at least one NUMA node, so returning NUMA node zero. See more at https://github.com/torvalds/linux/blob/v6.0/Documentation/ABI/testing/sysfs-bus-pci#L344-L355\n",
      "2024-04-18 13:32:28.623689: I tensorflow/compiler/xla/stream_executor/cuda/cuda_gpu_executor.cc:995] successful NUMA node read from SysFS had negative value (-1), but there must be at least one NUMA node, so returning NUMA node zero. See more at https://github.com/torvalds/linux/blob/v6.0/Documentation/ABI/testing/sysfs-bus-pci#L344-L355\n",
      "2024-04-18 13:32:28.623918: I tensorflow/compiler/xla/stream_executor/cuda/cuda_gpu_executor.cc:995] successful NUMA node read from SysFS had negative value (-1), but there must be at least one NUMA node, so returning NUMA node zero. See more at https://github.com/torvalds/linux/blob/v6.0/Documentation/ABI/testing/sysfs-bus-pci#L344-L355\n",
      "2024-04-18 13:32:28.628741: I tensorflow/compiler/xla/stream_executor/cuda/cuda_gpu_executor.cc:995] successful NUMA node read from SysFS had negative value (-1), but there must be at least one NUMA node, so returning NUMA node zero. See more at https://github.com/torvalds/linux/blob/v6.0/Documentation/ABI/testing/sysfs-bus-pci#L344-L355\n",
      "2024-04-18 13:32:28.628938: I tensorflow/compiler/xla/stream_executor/cuda/cuda_gpu_executor.cc:995] successful NUMA node read from SysFS had negative value (-1), but there must be at least one NUMA node, so returning NUMA node zero. See more at https://github.com/torvalds/linux/blob/v6.0/Documentation/ABI/testing/sysfs-bus-pci#L344-L355\n",
      "2024-04-18 13:32:28.629091: I tensorflow/compiler/xla/stream_executor/cuda/cuda_gpu_executor.cc:995] successful NUMA node read from SysFS had negative value (-1), but there must be at least one NUMA node, so returning NUMA node zero. See more at https://github.com/torvalds/linux/blob/v6.0/Documentation/ABI/testing/sysfs-bus-pci#L344-L355\n",
      "2024-04-18 13:32:29.771445: I tensorflow/compiler/xla/stream_executor/cuda/cuda_gpu_executor.cc:995] successful NUMA node read from SysFS had negative value (-1), but there must be at least one NUMA node, so returning NUMA node zero. See more at https://github.com/torvalds/linux/blob/v6.0/Documentation/ABI/testing/sysfs-bus-pci#L344-L355\n",
      "2024-04-18 13:32:29.771677: I tensorflow/compiler/xla/stream_executor/cuda/cuda_gpu_executor.cc:995] successful NUMA node read from SysFS had negative value (-1), but there must be at least one NUMA node, so returning NUMA node zero. See more at https://github.com/torvalds/linux/blob/v6.0/Documentation/ABI/testing/sysfs-bus-pci#L344-L355\n",
      "2024-04-18 13:32:29.771856: I tensorflow/compiler/xla/stream_executor/cuda/cuda_gpu_executor.cc:995] successful NUMA node read from SysFS had negative value (-1), but there must be at least one NUMA node, so returning NUMA node zero. See more at https://github.com/torvalds/linux/blob/v6.0/Documentation/ABI/testing/sysfs-bus-pci#L344-L355\n",
      "2024-04-18 13:32:29.772009: I tensorflow/core/common_runtime/gpu/gpu_device.cc:1639] Created device /job:localhost/replica:0/task:0/device:GPU:0 with 13766 MB memory:  -> device: 0, name: Tesla T4, pci bus id: 0000:00:07.0, compute capability: 7.5\n"
     ]
    },
    {
     "name": "stdout",
     "output_type": "stream",
     "text": [
      "version=2.13.1, CUDA=True, GPU=True\n",
      "Using 1 GPU\n",
      "Model output folder:  /eos/user/d/dvalsecc/www/ECAL/Clustering/DeepCluster/models_archive/gcn_models/Run3_126X_2023/tests_transformer//run_32\n",
      ">>> Loading datasets\n"
     ]
    }
   ],
   "source": [
    "config = json.load(open(config_json))\n",
    "\n",
    "config['activation'] = tf.keras.activations.get(config['activation'])\n",
    "\n",
    "# Checking hardware\n",
    "print('version={}, CUDA={}, GPU={}'.format(\n",
    "    tf.__version__, tf.test.is_built_with_cuda(),\n",
    "    len(tf.config.list_physical_devices('GPU')) > 0))\n",
    "      \n",
    "gpus =  tf.config.list_physical_devices('GPU')\n",
    "\n",
    "# if len(gpus) ==1 :\n",
    "#     print(\"Using 1 GPU\")\n",
    "#     tf.config.experimental.set_memory_growth(gpus[0], enable=True)\n",
    "#     strategy = tf.distribute.OneDeviceStrategy(\"gpu:0\")\n",
    "# elif len(gpus):\n",
    "#     print(\"Using {} GPUs\".format(len(gpus)))\n",
    "#     for gpu in gpus:\n",
    "#         tf.config.experimental.set_memory_growth(gpu, enable=True)\n",
    "#     strategy = tf.distribute.MirroredStrategy()\n",
    "# else:\n",
    "#     strategy = tf.distribute.OneDeviceStrategy(\"cpu:0\")\n",
    "if len(gpus) >=1 :\n",
    "    print(\"Using 1 GPU\")\n",
    "    #tf.config.experimental.set_memory_growth(gpus[0], enable=True)\n",
    "    strategy = tf.distribute.OneDeviceStrategy(\"gpu:0\")\n",
    "else:\n",
    "    strategy = tf.distribute.OneDeviceStrategy(\"cpu:0\")\n",
    "\n",
    "\n",
    "##################\n",
    "# Prepare the output folder\n",
    "def get_unique_run():\n",
    "    previous_runs = os.listdir(config[\"models_path\"])\n",
    "    if len(previous_runs) == 0:\n",
    "        run_number = 1\n",
    "    else:\n",
    "        run_number = max([int(s.split('run_')[1]) for s in previous_runs]) + 1\n",
    "    return run_number\n",
    "\n",
    "if not os.path.isdir(config[\"models_path\"]):\n",
    "    os.makedirs(config[\"models_path\"])\n",
    "\n",
    "name =  'run_{:02}'.format(get_unique_run())\n",
    "\n",
    "outdir = config[\"models_path\"] + \"/\"+ name\n",
    "\n",
    "if os.path.isdir(outdir):\n",
    "    print(\"Output directory exists: {}\".format(outdir), file=sys.stderr)\n",
    "else:\n",
    "    os.makedirs(outdir)\n",
    "\n",
    "print(\"Model output folder: \", outdir)\n",
    "\n",
    "############################3\n",
    "#Copying the config file and model file in the output dir:\n",
    "os.system(\"cp {} {}\".format(config_json, outdir))\n",
    "os.system(\"cp {} {}\".format(model_file, outdir))\n",
    "\n",
    "###########################\n",
    "## Loading the datasets\n",
    "print(\">>> Loading datasets\")\n",
    "\n",
    "train_ds = awk_data.load_dataset(awk_data.LoaderConfig(**config[\"dataset_conf\"][\"training\"]))\n",
    "test_ds = awk_data.load_dataset(awk_data.LoaderConfig(**config[\"dataset_conf\"][\"validation\"]))\n",
    "# Create training and validation\n",
    "ds_train = train_ds.prefetch(tf.data.AUTOTUNE).repeat(config['nepochs'])\n",
    "ds_test  = test_ds.prefetch(tf.data.AUTOTUNE).repeat(config['nepochs'])"
   ]
  },
  {
   "cell_type": "code",
   "execution_count": 3,
   "id": "e5c576da-699c-4a3c-8421-65f88b03c1bb",
   "metadata": {},
   "outputs": [
    {
     "name": "stdout",
     "output_type": "stream",
     "text": [
      ">>> Creating the model\n"
     ]
    },
    {
     "name": "stderr",
     "output_type": "stream",
     "text": [
      "2024-04-18 13:32:41.537092: I tensorflow/compiler/xla/stream_executor/cuda/cuda_dnn.cc:432] Loaded cuDNN version 8600\n"
     ]
    },
    {
     "name": "stdout",
     "output_type": "stream",
     "text": [
      "Model: \"deep_cluster_transformer\"\n",
      "_________________________________________________________________\n",
      " Layer (type)                Output Shape              Param #   \n",
      "=================================================================\n",
      " features_builder (Features  multiple                  68792     \n",
      " Building)                                                       \n",
      "                                                                 \n",
      " global_transformer_0 (Mult  multiple                  38560     \n",
      " iSelfAttentionBlock)                                            \n",
      "                                                                 \n",
      " global_transformer_1 (Mult  multiple                  38560     \n",
      " iSelfAttentionBlock)                                            \n",
      "                                                                 \n",
      " global_transformer_2 (Mult  multiple                  38560     \n",
      " iSelfAttentionBlock)                                            \n",
      "                                                                 \n",
      " global_transformer_3 (Mult  multiple                  38560     \n",
      " iSelfAttentionBlock)                                            \n",
      "                                                                 \n",
      " dense_clclass (Sequential)  (512, 17, 1)              74369     \n",
      "                                                                 \n",
      " accumulator_windclass (Seq  (512, 17, 32)             10848     \n",
      " uential)                                                        \n",
      "                                                                 \n",
      " dense_windclass (Sequentia  (512, 3)                  16835     \n",
      " l)                                                              \n",
      "                                                                 \n",
      " accumulator_enregr (Sequen  (512, 17, 32)             10976     \n",
      " tial)                                                           \n",
      "                                                                 \n",
      " dense_enregr (Sequential)   (512, 1)                  66177     \n",
      "                                                                 \n",
      " dropout_34 (Dropout)        multiple                  0 (unused)\n",
      "                                                                 \n",
      " SA_windclass_layernorm (La  multiple                  142       \n",
      " yerNormalization)                                               \n",
      "                                                                 \n",
      " SA_enregr_layernorm (Layer  multiple                  146       \n",
      " Normalization)                                                  \n",
      "                                                                 \n",
      " concatenate_1 (Concatenate  multiple                  0         \n",
      " )                                                               \n",
      "                                                                 \n",
      " concatenate_2 (Concatenate  multiple                  0         \n",
      " )                                                               \n",
      "                                                                 \n",
      " concatenate_3 (Concatenate  multiple                  0         \n",
      " )                                                               \n",
      "                                                                 \n",
      "=================================================================\n",
      "Total params: 402541 (1.54 MB)\n",
      "Trainable params: 402525 (1.54 MB)\n",
      "Non-trainable params: 16 (64.00 Byte)\n",
      "_________________________________________________________________\n"
     ]
    }
   ],
   "source": [
    "############### \n",
    "# Loading the model file\n",
    " # Load model modules\n",
    "spec = importlib.util.spec_from_file_location(\"model\", model_file)\n",
    "model_lib = importlib.util.module_from_spec(spec)\n",
    "spec.loader.exec_module(model_lib)\n",
    "\n",
    "tf.keras.backend.clear_session()\n",
    "# Construction of the model in the strategy scope\n",
    "with strategy.scope():\n",
    "    print(\">>> Creating the model\")\n",
    "    # Build the model with all the configs\n",
    "    model = model_lib.DeepClusterTransformer(**config)\n",
    "\n",
    "    #optimizer\n",
    "    if config['opt'] == \"adam\":\n",
    "        opt = tf.keras.optimizers.Adam(learning_rate=config['lr'])\n",
    "\n",
    "    #compile the model\n",
    "    model.compile(optimizer=opt)\n",
    "    model.set_metrics()\n",
    "\n",
    "    for X, y ,w  in ds_train:\n",
    "        # Load the model\n",
    "        ypred = model(X, training=False)\n",
    "        #l = custom_loss(y, ypred)\n",
    "        break\n",
    "\n",
    "    model.summary()\n",
    "    "
   ]
  },
  {
   "cell_type": "markdown",
   "id": "9bb87ed2-f20d-4574-a071-c5766dea5062",
   "metadata": {},
   "source": [
    "## Evaluating the model"
   ]
  },
  {
   "cell_type": "code",
   "execution_count": 6,
   "id": "d3794d96-8097-4e0c-bfe2-1001862832a3",
   "metadata": {},
   "outputs": [],
   "source": [
    "X, ytrue, w = next(iter(ds_train))"
   ]
  },
  {
   "cell_type": "code",
   "execution_count": 7,
   "id": "c7741ac5-a915-45ac-8116-6e134566cb08",
   "metadata": {},
   "outputs": [
    {
     "name": "stdout",
     "output_type": "stream",
     "text": [
      "WARNING:tensorflow:5 out of the last 11 calls to <function scaled_dot_product_attention at 0x7fb48013ae50> triggered tf.function retracing. Tracing is expensive and the excessive number of tracings could be due to (1) creating @tf.function repeatedly in a loop, (2) passing tensors with different shapes, (3) passing Python objects instead of tensors. For (1), please define your @tf.function outside of the loop. For (2), @tf.function has reduce_retracing=True option that can avoid unnecessary retracing. For (3), please refer to https://www.tensorflow.org/guide/function#controlling_retracing and https://www.tensorflow.org/api_docs/python/tf/function for  more details.\n",
      "WARNING:tensorflow:5 out of the last 11 calls to <function scaled_dot_product_attention at 0x7fb48013ae50> triggered tf.function retracing. Tracing is expensive and the excessive number of tracings could be due to (1) creating @tf.function repeatedly in a loop, (2) passing tensors with different shapes, (3) passing Python objects instead of tensors. For (1), please define your @tf.function outside of the loop. For (2), @tf.function has reduce_retracing=True option that can avoid unnecessary retracing. For (3), please refer to https://www.tensorflow.org/guide/function#controlling_retracing and https://www.tensorflow.org/api_docs/python/tf/function for  more details.\n"
     ]
    }
   ],
   "source": [
    "ypred = model(X)"
   ]
  },
  {
   "cell_type": "code",
   "execution_count": 11,
   "id": "ea6f6604-ed68-47d0-9f72-e255826425e4",
   "metadata": {},
   "outputs": [
    {
     "data": {
      "text/plain": [
       "<tf.Tensor: shape=(512, 17, 1), dtype=float32, numpy=\n",
       "array([[[0.6018201 ],\n",
       "        [0.5       ],\n",
       "        [0.5       ],\n",
       "        ...,\n",
       "        [0.5       ],\n",
       "        [0.5       ],\n",
       "        [0.5       ]],\n",
       "\n",
       "       [[0.56032187],\n",
       "        [0.4504264 ],\n",
       "        [0.34918898],\n",
       "        ...,\n",
       "        [0.5       ],\n",
       "        [0.5       ],\n",
       "        [0.5       ]],\n",
       "\n",
       "       [[0.7257393 ],\n",
       "        [0.53276527],\n",
       "        [0.5       ],\n",
       "        ...,\n",
       "        [0.5       ],\n",
       "        [0.5       ],\n",
       "        [0.5       ]],\n",
       "\n",
       "       ...,\n",
       "\n",
       "       [[0.75059336],\n",
       "        [0.5685579 ],\n",
       "        [0.5       ],\n",
       "        ...,\n",
       "        [0.5       ],\n",
       "        [0.5       ],\n",
       "        [0.5       ]],\n",
       "\n",
       "       [[0.48063752],\n",
       "        [0.3287788 ],\n",
       "        [0.5       ],\n",
       "        ...,\n",
       "        [0.5       ],\n",
       "        [0.5       ],\n",
       "        [0.5       ]],\n",
       "\n",
       "       [[0.59520024],\n",
       "        [0.4371318 ],\n",
       "        [0.5849209 ],\n",
       "        ...,\n",
       "        [0.5       ],\n",
       "        [0.5       ],\n",
       "        [0.5       ]]], dtype=float32)>"
      ]
     },
     "execution_count": 11,
     "metadata": {},
     "output_type": "execute_result"
    }
   ],
   "source": [
    "tf.sigmoid(ypred[0][0])"
   ]
  },
  {
   "cell_type": "markdown",
   "id": "2d511670-8968-4c5d-a663-8d375266422d",
   "metadata": {},
   "source": [
    "# Check losses"
   ]
  },
  {
   "cell_type": "markdown",
   "id": "ecfd48d9-c6e1-4362-895d-a2f60740dd21",
   "metadata": {},
   "source": [
    "### Classification loss"
   ]
  },
  {
   "cell_type": "code",
   "execution_count": 13,
   "id": "716f3e6b-8876-4e09-8d40-47f95ddcbf86",
   "metadata": {},
   "outputs": [],
   "source": [
    "(dense_clclass, dense_windclass, en_regr_factor),  mask_cls  = ypred\n",
    "y_clclass, y_windclass, cl_X, wind_X, y_metadata = ytrue        \n",
    "class_loss = tf.keras.losses.binary_crossentropy(y_clclass[:,:,tf.newaxis], dense_clclass, from_logits=True) * mask_cls\n",
    "# This should be replaced by the mean over the not masked elements\n",
    "reduced_loss = tf.reduce_sum(tf.reduce_mean(class_loss, axis=-1) * w) / tf.reduce_sum(w)\n",
    "# reduced_loss = tf.reduce_sum(tf.reduce_sum(class_loss, axis=-1) * weight / tf.reduce_sum) / tf.reduce_sum(weight)"
   ]
  },
  {
   "cell_type": "code",
   "execution_count": 14,
   "id": "21c4f659-9a8f-48f6-91d0-8e60ba3b5afc",
   "metadata": {},
   "outputs": [
    {
     "name": "stdout",
     "output_type": "stream",
     "text": [
      "49.5 µs ± 776 ns per loop (mean ± std. dev. of 7 runs, 10000 loops each)\n"
     ]
    }
   ],
   "source": [
    "%%timeit\n",
    "class_loss*mask_cls"
   ]
  },
  {
   "cell_type": "code",
   "execution_count": 15,
   "id": "e722282e-24ad-4ce0-87e9-7eb39d65ff87",
   "metadata": {},
   "outputs": [],
   "source": [
    "old_loss = tf.reduce_mean(class_loss, axis=-1)\n",
    "correct_loss = tf.reduce_sum(class_loss, axis=-1) / tf.reduce_sum(mask_cls, axis=-1)\n",
    "ncls = tf.reduce_sum(mask_cls, axis=-1)"
   ]
  },
  {
   "cell_type": "code",
   "execution_count": 16,
   "id": "238d31cb-2749-4b82-b6f4-4bd6331e7447",
   "metadata": {},
   "outputs": [
    {
     "data": {
      "text/plain": [
       "<matplotlib.legend.Legend at 0x7fb5bdb32610>"
      ]
     },
     "execution_count": 16,
     "metadata": {},
     "output_type": "execute_result"
    },
    {
     "data": {
      "image/png": "[encoded data removed]",
      "text/plain": [
       "<Figure size 432x288 with 1 Axes>"
      ]
     },
     "metadata": {
      "needs_background": "light"
     },
     "output_type": "display_data"
    }
   ],
   "source": [
    "plt.hist(correct_loss, bins=40, range=(0,2), histtype=\"step\", label=\"old loss\")\n",
    "plt.hist(old_loss, bins=40, range=(0,2), histtype=\"step\", label=\"new loss\")\n",
    "plt.legend()"
   ]
  },
  {
   "cell_type": "code",
   "execution_count": 17,
   "id": "e47ae3df-b22c-47f8-82c4-dc5d1cd8ec7b",
   "metadata": {},
   "outputs": [
    {
     "data": {
      "text/plain": [
       "<matplotlib.colorbar.Colorbar at 0x7fb5bd136d00>"
      ]
     },
     "execution_count": 17,
     "metadata": {},
     "output_type": "execute_result"
    },
    {
     "data": {
      "image/png": "[encoded data removed]",
      "text/plain": [
       "<Figure size 432x288 with 2 Axes>"
      ]
     },
     "metadata": {
      "needs_background": "light"
     },
     "output_type": "display_data"
    }
   ],
   "source": [
    "plt.hist2d(ncls, correct_loss- old_loss, bins=15, cmap=\"Blues\")\n",
    "plt.xlabel('N.cls')\n",
    "plt.ylabel(\"New loss- old loss\")\n",
    "plt.colorbar()"
   ]
  },
  {
   "cell_type": "markdown",
   "id": "a6aefe73-fa0a-4f52-a6a4-e4d22abdc409",
   "metadata": {},
   "source": [
    "### SoftF1 classification loss"
   ]
  },
  {
   "cell_type": "code",
   "execution_count": 18,
   "id": "fa8a3d5f-65d2-44c6-8c07-9f177045b2b5",
   "metadata": {},
   "outputs": [],
   "source": [
    "(dense_clclass, dense_windclass, en_regr_factor), mask_cls  = ypred\n",
    "y_clclass, y_windclass, cl_X, wind_X, y_metadata = ytrue\n",
    "y_target = tf.cast(y_clclass, tf.float32)[:,:,tf.newaxis]\n",
    "beta = 1.5\n",
    "# matched_window = tf.cast(y_metadata[:,-1]!=0, tf.float32)\n",
    "\n",
    "pred_prob = tf.nn.sigmoid(dense_clclass)*mask_cls[:,:,None]\n",
    "tp = tf.reduce_sum(pred_prob * y_target, axis=1)\n",
    "fn = tf.reduce_sum((1 - pred_prob) * y_target, axis=1)\n",
    "fp = tf.reduce_sum(pred_prob * (1 - y_target), axis=1)\n",
    "\n",
    "soft_f1_loss = 1 - ((1 + beta**2) * tp)/ ( (1+beta**2)*tp + beta* fn + fp + 1e-16) \n",
    "reduced_f1 = tf.reduce_sum(tf.squeeze(soft_f1_loss) * w) / tf.reduce_sum(w) "
   ]
  },
  {
   "cell_type": "code",
   "execution_count": 19,
   "id": "fd42e6d4-f409-4aca-9800-52ab67331aa0",
   "metadata": {},
   "outputs": [
    {
     "data": {
      "text/plain": [
       "<tf.Tensor: shape=(), dtype=float32, numpy=0.39589062>"
      ]
     },
     "execution_count": 19,
     "metadata": {},
     "output_type": "execute_result"
    }
   ],
   "source": [
    "reduced_f1"
   ]
  },
  {
   "cell_type": "code",
   "execution_count": 20,
   "id": "6756efde-5204-41ca-add6-0ff133da4303",
   "metadata": {},
   "outputs": [
    {
     "data": {
      "text/plain": [
       "<tf.Tensor: shape=(), dtype=float32, numpy=0.39589062>"
      ]
     },
     "execution_count": 20,
     "metadata": {},
     "output_type": "execute_result"
    }
   ],
   "source": [
    "reduced_f1"
   ]
  },
  {
   "cell_type": "markdown",
   "id": "98dd8ae4-91c8-4e84-9775-2e668609a699",
   "metadata": {},
   "source": [
    "### Energy losses"
   ]
  },
  {
   "cell_type": "code",
   "execution_count": 21,
   "id": "837c8eb7-9249-4017-a750-8b196b6cef9d",
   "metadata": {},
   "outputs": [],
   "source": [
    "(dense_clclass, dense_windclass, en_regr_factor), mask_cls  = ypred\n",
    "y_clclass, y_windclass, cl_X, wind_X, y_metadata = ytrue\n",
    "y_target = tf.cast(y_clclass, tf.float32)[:,:,tf.newaxis]\n",
    "cl_en = Et = cl_X[:,:,0:1]\n",
    "En_sim_good = y_metadata[:,-1]\n",
    "pred_prob = tf.nn.sigmoid(dense_clclass)*mask_cls[:,:,None] ### Masking???\n",
    "\n",
    "sel_en = tf.squeeze(tf.reduce_sum(cl_en * pred_prob , axis=1))\n",
    "en_resolution_loss =  tf.reduce_sum(tf.square( (sel_en/En_sim_good) - 1) * w ) / tf.reduce_sum(w) "
   ]
  },
  {
   "cell_type": "code",
   "execution_count": 22,
   "id": "47c2c95b-b485-4a26-948b-4b494e0708d8",
   "metadata": {},
   "outputs": [],
   "source": [
    "pred_prob = tf.nn.sigmoid(dense_clclass)"
   ]
  },
  {
   "cell_type": "code",
   "execution_count": 23,
   "id": "e05e8b04-5c9b-4e9d-a31f-12d9b26b3496",
   "metadata": {},
   "outputs": [
    {
     "data": {
      "text/plain": [
       "<tf.Tensor: shape=(10,), dtype=float32, numpy=\n",
       "array([ 780.512   ,  280.5111  , 1268.4597  ,  242.13467 ,  220.26003 ,\n",
       "        541.4424  ,  462.88995 , 1295.6138  ,   31.044123,  546.56976 ],\n",
       "      dtype=float32)>"
      ]
     },
     "execution_count": 23,
     "metadata": {},
     "output_type": "execute_result"
    }
   ],
   "source": [
    "sel_en[0:10]"
   ]
  },
  {
   "cell_type": "code",
   "execution_count": 24,
   "id": "9c7775df-99e0-4c5e-9585-a7af62f2f98e",
   "metadata": {},
   "outputs": [
    {
     "data": {
      "text/plain": [
       "<tf.Tensor: shape=(10,), dtype=float32, numpy=\n",
       "array([ 780.512   ,  280.5111  , 1268.4597  ,  242.13467 ,  220.26003 ,\n",
       "        541.4424  ,  462.88995 , 1295.6138  ,   31.044123,  546.56976 ],\n",
       "      dtype=float32)>"
      ]
     },
     "execution_count": 24,
     "metadata": {},
     "output_type": "execute_result"
    }
   ],
   "source": [
    "sel_en[0:10]"
   ]
  },
  {
   "cell_type": "markdown",
   "id": "b64cb261-2a54-44d9-b4cc-485eb4dc61af",
   "metadata": {},
   "source": [
    "## Training"
   ]
  },
  {
   "cell_type": "code",
   "execution_count": 25,
   "id": "87392dee-974b-40e4-9a4f-ee736099a9d2",
   "metadata": {},
   "outputs": [],
   "source": [
    "import tensorflow_model_optimization as tfmot\n",
    "initial_sparsity = 0.0\n",
    "final_sparsity = 0.75\n",
    "begin_step = 200\n",
    "end_step = 300\n",
    "pruning_params = {\n",
    "    'pruning_schedule': tfmot.sparsity.keras.PolynomialDecay(\n",
    "        initial_sparsity=initial_sparsity,\n",
    "        final_sparsity=final_sparsity,\n",
    "        begin_step=begin_step,\n",
    "        end_step=end_step)\n",
    "}"
   ]
  },
  {
   "cell_type": "code",
   "execution_count": 10,
   "id": "d377fd7a-8ff6-491a-9e5e-929dee0d659a",
   "metadata": {},
   "outputs": [
    {
     "ename": "ValueError",
     "evalue": "`prune_low_magnitude` can only prune an object of the following types: tf.keras.models.Sequential, tf.keras functional model, tf.keras.layers.Layer, list of tf.keras.layers.Layer. You passed an object of type: DeepClusterGN.",
     "output_type": "error",
     "traceback": [
      "\u001b[0;31m---------------------------------------------------------------------------\u001b[0m",
      "\u001b[0;31mValueError\u001b[0m                                Traceback (most recent call last)",
      "Cell \u001b[0;32mIn [10], line 1\u001b[0m\n\u001b[0;32m----> 1\u001b[0m model \u001b[38;5;241m=\u001b[39m \u001b[43mtfmot\u001b[49m\u001b[38;5;241;43m.\u001b[39;49m\u001b[43msparsity\u001b[49m\u001b[38;5;241;43m.\u001b[39;49m\u001b[43mkeras\u001b[49m\u001b[38;5;241;43m.\u001b[39;49m\u001b[43mprune_low_magnitude\u001b[49m\u001b[43m(\u001b[49m\u001b[43mmodel\u001b[49m\u001b[43m,\u001b[49m\u001b[43m \u001b[49m\u001b[38;5;241;43m*\u001b[39;49m\u001b[38;5;241;43m*\u001b[39;49m\u001b[43mpruning_params\u001b[49m\u001b[43m)\u001b[49m\n\u001b[1;32m      2\u001b[0m pruning_callback \u001b[38;5;241m=\u001b[39m tfmot\u001b[38;5;241m.\u001b[39msparsity\u001b[38;5;241m.\u001b[39mkeras\u001b[38;5;241m.\u001b[39mUpdatePruningStep()\n",
      "File \u001b[0;32m/work/dvalsecc/miniconda3/envs/clustering_tf2.3/lib/python3.8/site-packages/tensorflow_model_optimization/python/core/keras/metrics.py:74\u001b[0m, in \u001b[0;36mMonitorBoolGauge.__call__.<locals>.inner\u001b[0;34m(*args, **kwargs)\u001b[0m\n\u001b[1;32m     72\u001b[0m \u001b[38;5;28;01mexcept\u001b[39;00m \u001b[38;5;167;01mException\u001b[39;00m \u001b[38;5;28;01mas\u001b[39;00m error:\n\u001b[1;32m     73\u001b[0m   \u001b[38;5;28mself\u001b[39m\u001b[38;5;241m.\u001b[39mbool_gauge\u001b[38;5;241m.\u001b[39mget_cell(MonitorBoolGauge\u001b[38;5;241m.\u001b[39m_FAILURE_LABEL)\u001b[38;5;241m.\u001b[39mset(\u001b[38;5;28;01mTrue\u001b[39;00m)\n\u001b[0;32m---> 74\u001b[0m   \u001b[38;5;28;01mraise\u001b[39;00m error\n",
      "File \u001b[0;32m/work/dvalsecc/miniconda3/envs/clustering_tf2.3/lib/python3.8/site-packages/tensorflow_model_optimization/python/core/keras/metrics.py:69\u001b[0m, in \u001b[0;36mMonitorBoolGauge.__call__.<locals>.inner\u001b[0;34m(*args, **kwargs)\u001b[0m\n\u001b[1;32m     66\u001b[0m \u001b[38;5;129m@functools\u001b[39m\u001b[38;5;241m.\u001b[39mwraps(func)\n\u001b[1;32m     67\u001b[0m \u001b[38;5;28;01mdef\u001b[39;00m \u001b[38;5;21minner\u001b[39m(\u001b[38;5;241m*\u001b[39margs, \u001b[38;5;241m*\u001b[39m\u001b[38;5;241m*\u001b[39mkwargs):\n\u001b[1;32m     68\u001b[0m   \u001b[38;5;28;01mtry\u001b[39;00m:\n\u001b[0;32m---> 69\u001b[0m     results \u001b[38;5;241m=\u001b[39m \u001b[43mfunc\u001b[49m\u001b[43m(\u001b[49m\u001b[38;5;241;43m*\u001b[39;49m\u001b[43margs\u001b[49m\u001b[43m,\u001b[49m\u001b[43m \u001b[49m\u001b[38;5;241;43m*\u001b[39;49m\u001b[38;5;241;43m*\u001b[39;49m\u001b[43mkwargs\u001b[49m\u001b[43m)\u001b[49m\n\u001b[1;32m     70\u001b[0m     \u001b[38;5;28mself\u001b[39m\u001b[38;5;241m.\u001b[39mbool_gauge\u001b[38;5;241m.\u001b[39mget_cell(MonitorBoolGauge\u001b[38;5;241m.\u001b[39m_SUCCESS_LABEL)\u001b[38;5;241m.\u001b[39mset(\u001b[38;5;28;01mTrue\u001b[39;00m)\n\u001b[1;32m     71\u001b[0m     \u001b[38;5;28;01mreturn\u001b[39;00m results\n",
      "File \u001b[0;32m/work/dvalsecc/miniconda3/envs/clustering_tf2.3/lib/python3.8/site-packages/tensorflow_model_optimization/python/core/sparsity/keras/prune.py:215\u001b[0m, in \u001b[0;36mprune_low_magnitude\u001b[0;34m(to_prune, pruning_schedule, block_size, block_pooling_type, pruning_policy, sparsity_m_by_n, **kwargs)\u001b[0m\n\u001b[1;32m    213\u001b[0m   \u001b[38;5;28;01mreturn\u001b[39;00m pruning_wrapper\u001b[38;5;241m.\u001b[39mPruneLowMagnitude(to_prune, \u001b[38;5;241m*\u001b[39m\u001b[38;5;241m*\u001b[39mparams)\n\u001b[1;32m    214\u001b[0m \u001b[38;5;28;01melse\u001b[39;00m:\n\u001b[0;32m--> 215\u001b[0m   \u001b[38;5;28;01mraise\u001b[39;00m \u001b[38;5;167;01mValueError\u001b[39;00m(\n\u001b[1;32m    216\u001b[0m       \u001b[38;5;124m'\u001b[39m\u001b[38;5;124m`prune_low_magnitude` can only prune an object of the following \u001b[39m\u001b[38;5;124m'\u001b[39m\n\u001b[1;32m    217\u001b[0m       \u001b[38;5;124m'\u001b[39m\u001b[38;5;124mtypes: tf.keras.models.Sequential, tf.keras functional model, \u001b[39m\u001b[38;5;124m'\u001b[39m\n\u001b[1;32m    218\u001b[0m       \u001b[38;5;124m'\u001b[39m\u001b[38;5;124mtf.keras.layers.Layer, list of tf.keras.layers.Layer. You passed \u001b[39m\u001b[38;5;124m'\u001b[39m\n\u001b[1;32m    219\u001b[0m       \u001b[38;5;124m'\u001b[39m\u001b[38;5;124man object of type: \u001b[39m\u001b[38;5;132;01m{input}\u001b[39;00m\u001b[38;5;124m.\u001b[39m\u001b[38;5;124m'\u001b[39m\u001b[38;5;241m.\u001b[39mformat(\u001b[38;5;28minput\u001b[39m\u001b[38;5;241m=\u001b[39mto_prune\u001b[38;5;241m.\u001b[39m\u001b[38;5;18m__class__\u001b[39m\u001b[38;5;241m.\u001b[39m\u001b[38;5;18m__name__\u001b[39m))\n",
      "\u001b[0;31mValueError\u001b[0m: `prune_low_magnitude` can only prune an object of the following types: tf.keras.models.Sequential, tf.keras functional model, tf.keras.layers.Layer, list of tf.keras.layers.Layer. You passed an object of type: DeepClusterGN."
     ]
    }
   ],
   "source": [
    "model = tfmot.sparsity.keras.prune_low_magnitude(model, **pruning_params)\n",
    "pruning_callback = tfmot.sparsity.keras.UpdatePruningStep()"
   ]
  },
  {
   "cell_type": "code",
   "execution_count": null,
   "id": "65e22f95-c04b-40d1-8713-07f3d416f7cf",
   "metadata": {},
   "outputs": [],
   "source": []
  },
  {
   "cell_type": "code",
   "execution_count": null,
   "id": "01ece83a-062d-45c6-822a-5b6dda331956",
   "metadata": {},
   "outputs": [],
   "source": []
  }
 ],
 "metadata": {
  "kernelspec": {
   "display_name": "Python 3",
   "language": "python",
   "name": "python3"
  },
  "language_info": {
   "codemirror_mode": {
    "name": "ipython",
    "version": 3
   },
   "file_extension": ".py",
   "mimetype": "text/x-python",
   "name": "python",
   "nbconvert_exporter": "python",
   "pygments_lexer": "ipython3",
   "version": "3.9.12"
  }
 },
 "nbformat": 4,
 "nbformat_minor": 5
}
